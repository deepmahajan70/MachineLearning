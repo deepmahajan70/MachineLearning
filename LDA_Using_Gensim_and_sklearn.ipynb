{
  "nbformat": 4,
  "nbformat_minor": 0,
  "metadata": {
    "colab": {
      "provenance": []
    },
    "kernelspec": {
      "name": "python3",
      "display_name": "Python 3"
    },
    "language_info": {
      "name": "python"
    }
  },
  "cells": [
    {
      "cell_type": "markdown",
      "source": [
        "Using gensim"
      ],
      "metadata": {
        "id": "g7ytoRu8tKpT"
      }
    },
    {
      "cell_type": "code",
      "execution_count": null,
      "metadata": {
        "colab": {
          "base_uri": "https://localhost:8080/"
        },
        "id": "mAKiWY_4mV0t",
        "outputId": "f33c80e1-538c-49d6-cebb-5f2077f5df66"
      },
      "outputs": [
        {
          "output_type": "stream",
          "name": "stdout",
          "text": [
            "(0, '0.166*\"learning\" + 0.166*\"data\" + 0.166*\"intelligence\" + 0.166*\"artificial\"')\n",
            "(1, '0.167*\"data\" + 0.167*\"learning\" + 0.166*\"neural\" + 0.166*\"network\"')\n"
          ]
        }
      ],
      "source": [
        "import gensim\n",
        "from gensim import corpora\n",
        "\n",
        "# Sample documents\n",
        "documents = [\n",
        "    \"artificial intelligence machine learning data\",\n",
        "    \"deep learning neural network data\"\n",
        "]\n",
        "\n",
        "# Preprocess documents\n",
        "texts = [doc.split() for doc in documents]\n",
        "\n",
        "# Create a dictionary and corpus\n",
        "dictionary = corpora.Dictionary(texts)\n",
        "corpus = [dictionary.doc2bow(text) for text in texts]\n",
        "\n",
        "# LDA model with 2 topics\n",
        "lda = gensim.models.LdaModel(corpus, num_topics=2, id2word=dictionary, passes=15)\n",
        "\n",
        "# Print the topics\n",
        "topics = lda.print_topics(num_words=4)\n",
        "for topic in topics:\n",
        "    print(topic)\n"
      ]
    },
    {
      "cell_type": "markdown",
      "source": [
        "Using Sklearn"
      ],
      "metadata": {
        "id": "XWDKl7K4tEIM"
      }
    },
    {
      "cell_type": "code",
      "source": [
        "from sklearn.decomposition import LatentDirichletAllocation\n",
        "from sklearn.feature_extraction.text import CountVectorizer\n",
        "import numpy as np\n",
        "\n",
        "# Sample documents\n",
        "documents = [\n",
        "    \"artificial intelligence machine learning data\",\n",
        "    \"deep learning neural network data\",\n",
        "    \"neural networks are part of deep learning\",\n",
        "    \"machine learning is a subset of artificial intelligence\",\n",
        "    \"data science and artificial intelligence are related fields\"\n",
        "]\n",
        "\n",
        "# Step 1: Vectorizing the text (Bag-of-Words)\n",
        "vectorizer = CountVectorizer(stop_words='english')\n",
        "doc_term_matrix = vectorizer.fit_transform(documents)\n",
        "\n",
        "# Step 2: Fit LDA model\n",
        "lda = LatentDirichletAllocation(n_components=2, random_state=0)  # 2 topics\n",
        "lda.fit(doc_term_matrix)\n",
        "\n",
        "# Step 3: Display the topics and the words associated with them\n",
        "def display_topics(model, feature_names, no_top_words):\n",
        "    for topic_idx, topic in enumerate(model.components_):\n",
        "        print(f\"Topic {topic_idx}:\")\n",
        "        print(\" \".join([feature_names[i] for i in topic.argsort()[:-no_top_words - 1:-1]]))\n",
        "\n",
        "no_top_words = 5\n",
        "feature_names = vectorizer.get_feature_names_out()\n",
        "display_topics(lda, feature_names, no_top_words)\n"
      ],
      "metadata": {
        "colab": {
          "base_uri": "https://localhost:8080/"
        },
        "id": "VaSksmVbtHKk",
        "outputId": "3b809393-4681-4391-9266-31e0bc3cb908"
      },
      "execution_count": null,
      "outputs": [
        {
          "output_type": "stream",
          "name": "stdout",
          "text": [
            "Topic 0:\n",
            "learning deep neural machine data\n",
            "Topic 1:\n",
            "intelligence artificial data science related\n"
          ]
        }
      ]
    }
  ]
}