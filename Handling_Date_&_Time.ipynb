{
  "nbformat": 4,
  "nbformat_minor": 0,
  "metadata": {
    "colab": {
      "provenance": []
    },
    "kernelspec": {
      "name": "python3",
      "display_name": "Python 3"
    },
    "language_info": {
      "name": "python"
    }
  },
  "cells": [
    {
      "cell_type": "markdown",
      "source": [
        "Using datetime Module"
      ],
      "metadata": {
        "id": "hJh4D_X-Qqbs"
      }
    },
    {
      "cell_type": "code",
      "execution_count": null,
      "metadata": {
        "colab": {
          "base_uri": "https://localhost:8080/"
        },
        "id": "TSQSH8l0QOdc",
        "outputId": "0f4be333-cbf6-466d-9565-69670d9e50a7"
      },
      "outputs": [
        {
          "output_type": "stream",
          "name": "stdout",
          "text": [
            "2024-09-30 07:47:51.284763\n",
            "2024-09-27 14:30:00\n",
            "2024-09-27 14:30:00\n",
            "2024-09-27 14:30:00\n",
            "2 days, 17:17:51.288523\n"
          ]
        }
      ],
      "source": [
        "from datetime import datetime\n",
        "\n",
        "# Get current date and time\n",
        "now = datetime.now()\n",
        "print(now)\n",
        "\n",
        "# Create a datetime object\n",
        "date_obj = datetime(2024, 9, 27, 14, 30)  # year, month, day, hour, minute\n",
        "print(date_obj)\n",
        "\n",
        "# Convert string to datetime\n",
        "date_str = '2024-09-27 14:30:00'\n",
        "date_format = datetime.strptime(date_str, '%Y-%m-%d %H:%M:%S')\n",
        "print(date_format)\n",
        "\n",
        "# Convert datetime to string\n",
        "formatted_date = date_obj.strftime('%Y-%m-%d %H:%M:%S')\n",
        "print(formatted_date)\n",
        "\n",
        "# Difference between dates\n",
        "time_diff = datetime.now() - date_obj\n",
        "print(time_diff)\n"
      ]
    },
    {
      "cell_type": "markdown",
      "source": [
        "Using Pandas for Time Series Analysis"
      ],
      "metadata": {
        "id": "8z4Eus80RDT0"
      }
    },
    {
      "cell_type": "code",
      "source": [
        "import pandas as pd\n",
        "\n",
        "# Create a time series\n",
        "date_range = pd.date_range(start='2024-01-01', periods=5, freq='Y')\n",
        "print(date_range)\n",
        "\n",
        "# Create a DataFrame with a DatetimeIndex\n",
        "data = {'values': [10, 20, 30, 40, 50]}\n",
        "df = pd.DataFrame(data, index=date_range)\n",
        "print(df)\n",
        "\n",
        "# Convert a column to datetime\n",
        "df['dates'] = ['2024-01-01 10:00:00','2024-01-02 11:00:00','2024-01-03 12:00:00','2024-01-04 13:00:00','2024-01-05 14:00:00']\n",
        "df['dates'] = pd.to_datetime(df['dates'])\n",
        "print(df)\n",
        "\n",
        "# Extract date/time features\n",
        "df['year'] = df.index.year\n",
        "df['month'] = df.index.month\n",
        "df['day'] = df.index.day\n",
        "df['hour'] = df.index.hour\n",
        "df['minute'] = df.index.minute\n",
        "\n",
        "print(df)\n",
        "\n"
      ],
      "metadata": {
        "colab": {
          "base_uri": "https://localhost:8080/"
        },
        "id": "A0ztm-7nRJoE",
        "outputId": "4bb9e3ce-c4af-4738-9f6e-af23bf8eddd2"
      },
      "execution_count": null,
      "outputs": [
        {
          "output_type": "stream",
          "name": "stdout",
          "text": [
            "DatetimeIndex(['2024-12-31', '2025-12-31', '2026-12-31', '2027-12-31',\n",
            "               '2028-12-31'],\n",
            "              dtype='datetime64[ns]', freq='A-DEC')\n",
            "            values\n",
            "2024-12-31      10\n",
            "2025-12-31      20\n",
            "2026-12-31      30\n",
            "2027-12-31      40\n",
            "2028-12-31      50\n",
            "            values               dates\n",
            "2024-12-31      10 2024-01-01 10:00:00\n",
            "2025-12-31      20 2024-01-02 11:00:00\n",
            "2026-12-31      30 2024-01-03 12:00:00\n",
            "2027-12-31      40 2024-01-04 13:00:00\n",
            "2028-12-31      50 2024-01-05 14:00:00\n",
            "            values               dates  year  month  day  hour  minute\n",
            "2024-12-31      10 2024-01-01 10:00:00  2024     12   31     0       0\n",
            "2025-12-31      20 2024-01-02 11:00:00  2025     12   31     0       0\n",
            "2026-12-31      30 2024-01-03 12:00:00  2026     12   31     0       0\n",
            "2027-12-31      40 2024-01-04 13:00:00  2027     12   31     0       0\n",
            "2028-12-31      50 2024-01-05 14:00:00  2028     12   31     0       0\n"
          ]
        }
      ]
    },
    {
      "cell_type": "markdown",
      "source": [
        "Handling Time-Zone"
      ],
      "metadata": {
        "id": "NK1T-gw9tsGt"
      }
    },
    {
      "cell_type": "code",
      "source": [
        "import pytz\n",
        "\n",
        "# Set the timezone to UTC\n",
        "df['timestamp_utc'] = df['dates'].dt.tz_localize('UTC')\n",
        "\n",
        "# Convert to another timezone (e.g., 'Asia/Kolkata')\n",
        "df['timestamp_ist'] = df['timestamp_utc'].dt.tz_convert('Asia/Kolkata')\n",
        "\n",
        "print(df[['dates', 'timestamp_utc', 'timestamp_ist']])\n"
      ],
      "metadata": {
        "colab": {
          "base_uri": "https://localhost:8080/"
        },
        "id": "NpopeA6JtwJ9",
        "outputId": "35aa1a9d-ba98-4322-e556-4d4a304c290e"
      },
      "execution_count": null,
      "outputs": [
        {
          "output_type": "stream",
          "name": "stdout",
          "text": [
            "                         dates             timestamp_utc  \\\n",
            "2024-01-31 2024-01-01 10:00:00 2024-01-01 10:00:00+00:00   \n",
            "2024-02-29 2024-01-02 11:00:00 2024-01-02 11:00:00+00:00   \n",
            "2024-03-31 2024-01-03 12:00:00 2024-01-03 12:00:00+00:00   \n",
            "2024-04-30 2024-01-04 13:00:00 2024-01-04 13:00:00+00:00   \n",
            "2024-05-31 2024-01-05 14:00:00 2024-01-05 14:00:00+00:00   \n",
            "\n",
            "                       timestamp_ist  \n",
            "2024-01-31 2024-01-01 15:30:00+05:30  \n",
            "2024-02-29 2024-01-02 16:30:00+05:30  \n",
            "2024-03-31 2024-01-03 17:30:00+05:30  \n",
            "2024-04-30 2024-01-04 18:30:00+05:30  \n",
            "2024-05-31 2024-01-05 19:30:00+05:30  \n"
          ]
        }
      ]
    },
    {
      "cell_type": "markdown",
      "source": [
        "Lag Features for Time Series Forecasting"
      ],
      "metadata": {
        "id": "LnJxBiYFuelv"
      }
    },
    {
      "cell_type": "code",
      "source": [
        "# Create lagged features\n",
        "df['lagged_values'] = df['values'].shift(1)\n",
        "df['lagged_values_2'] = df['values'].shift(2)\n",
        "\n",
        "print(df)"
      ],
      "metadata": {
        "colab": {
          "base_uri": "https://localhost:8080/"
        },
        "id": "BbCVUFQKwISH",
        "outputId": "c8de050e-b7f1-479d-f61c-6f392f5bd01c"
      },
      "execution_count": null,
      "outputs": [
        {
          "output_type": "stream",
          "name": "stdout",
          "text": [
            "            values               dates  year  month  day  hour  minute  \\\n",
            "2024-01-31      10 2024-01-01 10:00:00  2024      1   31     0       0   \n",
            "2024-02-29      20 2024-01-02 11:00:00  2024      2   29     0       0   \n",
            "2024-03-31      30 2024-01-03 12:00:00  2024      3   31     0       0   \n",
            "2024-04-30      40 2024-01-04 13:00:00  2024      4   30     0       0   \n",
            "2024-05-31      50 2024-01-05 14:00:00  2024      5   31     0       0   \n",
            "\n",
            "                       timestamp_utc             timestamp_ist  lagged_values  \\\n",
            "2024-01-31 2024-01-01 10:00:00+00:00 2024-01-01 15:30:00+05:30            NaN   \n",
            "2024-02-29 2024-01-02 11:00:00+00:00 2024-01-02 16:30:00+05:30           10.0   \n",
            "2024-03-31 2024-01-03 12:00:00+00:00 2024-01-03 17:30:00+05:30           20.0   \n",
            "2024-04-30 2024-01-04 13:00:00+00:00 2024-01-04 18:30:00+05:30           30.0   \n",
            "2024-05-31 2024-01-05 14:00:00+00:00 2024-01-05 19:30:00+05:30           40.0   \n",
            "\n",
            "            lagged_values_2  rolling_mean  \n",
            "2024-01-31              NaN           NaN  \n",
            "2024-02-29              NaN           NaN  \n",
            "2024-03-31             10.0          20.0  \n",
            "2024-04-30             20.0          30.0  \n",
            "2024-05-31             30.0          40.0  \n"
          ]
        }
      ]
    },
    {
      "cell_type": "markdown",
      "source": [
        "Rolling Window"
      ],
      "metadata": {
        "id": "mRJ52BIlvd94"
      }
    },
    {
      "cell_type": "code",
      "source": [
        "df['rolling_mean'] = df['values'].rolling(window=3).mean()\n",
        "\n",
        "print(df)"
      ],
      "metadata": {
        "colab": {
          "base_uri": "https://localhost:8080/"
        },
        "id": "25ayFIhcv7H4",
        "outputId": "0f4baeef-6216-4546-b620-71369e783306"
      },
      "execution_count": null,
      "outputs": [
        {
          "output_type": "stream",
          "name": "stdout",
          "text": [
            "            values               dates  year  month  day  hour  minute  \\\n",
            "2024-01-31      10 2024-01-01 10:00:00  2024      1   31     0       0   \n",
            "2024-02-29      20 2024-01-02 11:00:00  2024      2   29     0       0   \n",
            "2024-03-31      30 2024-01-03 12:00:00  2024      3   31     0       0   \n",
            "2024-04-30      40 2024-01-04 13:00:00  2024      4   30     0       0   \n",
            "2024-05-31      50 2024-01-05 14:00:00  2024      5   31     0       0   \n",
            "\n",
            "                       timestamp_utc             timestamp_ist  lagged_values  \\\n",
            "2024-01-31 2024-01-01 10:00:00+00:00 2024-01-01 15:30:00+05:30            NaN   \n",
            "2024-02-29 2024-01-02 11:00:00+00:00 2024-01-02 16:30:00+05:30           10.0   \n",
            "2024-03-31 2024-01-03 12:00:00+00:00 2024-01-03 17:30:00+05:30           20.0   \n",
            "2024-04-30 2024-01-04 13:00:00+00:00 2024-01-04 18:30:00+05:30           30.0   \n",
            "2024-05-31 2024-01-05 14:00:00+00:00 2024-01-05 19:30:00+05:30           40.0   \n",
            "\n",
            "            lagged_values_2  rolling_mean  \n",
            "2024-01-31              NaN           NaN  \n",
            "2024-02-29              NaN           NaN  \n",
            "2024-03-31             10.0          20.0  \n",
            "2024-04-30             20.0          30.0  \n",
            "2024-05-31             30.0          40.0  \n"
          ]
        }
      ]
    }
  ]
}